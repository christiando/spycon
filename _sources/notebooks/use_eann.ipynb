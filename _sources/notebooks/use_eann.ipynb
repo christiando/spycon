{
 "cells": [
  {
   "cell_type": "markdown",
   "metadata": {},
   "source": [
    "# Use eANN\n",
    "\n",
    "In this notebook we show how to use the ensemble neural network. As before let's load a spycon test."
   ]
  },
  {
   "cell_type": "code",
   "execution_count": 1,
   "metadata": {},
   "outputs": [
    {
     "name": "stdout",
     "output_type": "stream",
     "text": [
      "Using cpu device\n"
     ]
    }
   ],
   "source": [
    "# Basic imports\n",
    "from matplotlib import pyplot\n",
    "import spycon\n",
    "from spycon.spycon_tests import load_test"
   ]
  },
  {
   "cell_type": "code",
   "execution_count": 2,
   "metadata": {},
   "outputs": [],
   "source": [
    "spycon_test = load_test(name='ren_simulation_1917_Cell1Block1_long_340_20_ei5_example', path='../data/gt_data/', params={\"T_stop\": 600})"
   ]
  },
  {
   "cell_type": "markdown",
   "metadata": {},
   "source": [
    "Now let's setup the ensemble. For that we need to create the dictionary, which contains the base methods. See `setup_ensemble.py` that sets up the dictionary used for the eANN presented in the paper. Note, that this dictionary must be the one, the network was trained with. (Later in this tutorial we will see how to train our custom network.) \n",
    "\n",
    "With this dictionary we can create the network."
   ]
  },
  {
   "cell_type": "code",
   "execution_count": 3,
   "metadata": {},
   "outputs": [
    {
     "name": "stdout",
     "output_type": "stream",
     "text": [
      "##### Trained model successfully loaded #####\n"
     ]
    }
   ],
   "source": [
    "from spycon import coninf\n",
    "\n",
    "base_methods, model_name = coninf.setup_ensemble.get_eann_coninf_dict(num_cores=4)\n",
    "\n",
    "eANN_params = {\"name\": model_name,\n",
    "               \"con_inf_dict\": base_methods,}\n",
    "eANN = coninf.sci_ensemble.NNEnsemble(params=eANN_params)"
   ]
  },
  {
   "cell_type": "markdown",
   "metadata": {},
   "source": [
    "Now, we can run the ensemble network as before the other `SpikeConnectivityInference` methods. However, one should note, that by default, the for making predictions we need to run all the base methods on the data we want to test, because from these results the input to the network is constructed. If we have run already (at least) some methods on the data and saved the result, there is the option, to load the results, and provide them to the inference. This way, double computation can be avoided. _Caution_: The parameters of the base methods should be the same as used for the training."
   ]
  },
  {
   "cell_type": "code",
   "execution_count": 4,
   "metadata": {},
   "outputs": [
    {
     "name": "stdout",
     "output_type": "stream",
     "text": [
      "##### Creating dataset #####\n",
      "##### Making predictions #####\n"
     ]
    }
   ],
   "source": [
    "# The line below would run all the base methods on the test data, which takes some time.   \n",
    "# eANN_result = eANN.infer_connectivity(spycon_test.times, spycon_test.ids parallel=True)\n",
    "\n",
    "# This runs all the base methods once and saves the results.\n",
    "# result_path = '../data/results/'\n",
    "# for base_method_name, base_method in base_methods.items():\n",
    "#     result = base_method.infer_connectivity(spycon_test.times, spycon_test.ids, parallel=True)\n",
    "#     result.save(f'{spycon_test.name}_{base_method_name}', result_path)\n",
    "    \n",
    "# Instead, we load the results from the previous run below\n",
    "result_path = '../data/results/'\n",
    "result_dict = {}\n",
    "for base_method_name in base_methods.keys():\n",
    "    result_dict[base_method_name] = spycon.load_connectivity_result(f'{spycon_test.name}_{base_method_name}', result_path)\n",
    "# We provide the results to the ensemble and it takes only a few seconds to run\n",
    "result_dict['eANN'] = eANN.infer_connectivity(spycon_test.times, spycon_test.ids, spycon_result_dict=result_dict, parallel=True)"
   ]
  },
  {
   "cell_type": "markdown",
   "metadata": {},
   "source": [
    "Now we evaluate the different methods on the test. We see, that all methods perform quite well, but the eANN shows perfect classification (keep in mind that this is only a test example)."
   ]
  },
  {
   "cell_type": "code",
   "execution_count": 5,
   "metadata": {},
   "outputs": [
    {
     "data": {
      "image/png": "[encoded data removed]",
      "text/plain": [
       "<Figure size 1000x500 with 2 Axes>"
      ]
     },
     "metadata": {},
     "output_type": "display_data"
    }
   ],
   "source": [
    "mcc, aps, names = [], [], []\n",
    "\n",
    "for method_name in result_dict.keys():\n",
    "    metrics = spycon_test.eval_performance(result_dict[method_name])\n",
    "    mcc.append(metrics['mcc'][0])\n",
    "    aps.append(metrics['aps'][0])\n",
    "    names.append(method_name)\n",
    "    \n",
    "pyplot.figure(figsize=(10, 5))\n",
    "pyplot.subplot(1, 2, 1)\n",
    "pyplot.bar(names, mcc)\n",
    "pyplot.ylabel('MCC')\n",
    "pyplot.subplot(1, 2, 2)\n",
    "pyplot.bar(names, aps)\n",
    "pyplot.ylabel('APS')\n",
    "pyplot.show()"
   ]
  }
 ],
 "metadata": {
  "kernelspec": {
   "display_name": "spycon",
   "language": "python",
   "name": "python3"
  },
  "language_info": {
   "codemirror_mode": {
    "name": "ipython",
    "version": 3
   },
   "file_extension": ".py",
   "mimetype": "text/x-python",
   "name": "python",
   "nbconvert_exporter": "python",
   "pygments_lexer": "ipython3",
   "version": "3.10.4"
  },
  "orig_nbformat": 4
 },
 "nbformat": 4,
 "nbformat_minor": 2
}
