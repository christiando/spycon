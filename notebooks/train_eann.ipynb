{
 "cells": [
  {
   "cell_type": "markdown",
   "metadata": {},
   "source": [
    "# Train your own ensemble network\n",
    "\n",
    "For training your own ensemble network you need\n",
    "\n",
    "1. To define your training data (i.e. spycon tests)\n",
    "2. Define your base methods.\n",
    "\n",
    "Then you can use the training methods provided in `coninf/sci_ensemble.py`. An example script is provided in the `/script/` folder."
   ]
  }
 ],
 "metadata": {
  "language_info": {
   "name": "python"
  },
  "orig_nbformat": 4
 },
 "nbformat": 4,
 "nbformat_minor": 2
}
